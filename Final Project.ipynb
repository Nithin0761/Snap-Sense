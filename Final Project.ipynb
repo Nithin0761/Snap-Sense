import os
    import cv2
    import pickle
    from PIL import Image
    import pyttsx3
    import speech_recognition as sr
    from transformers import GenerationConfig

    # Load processor and model
    with open('processor.pkl', 'rb') as processor_file:
        processor = pickle.load(processor_file)

    with open('model.pkl', 'rb') as model_file:
        model = pickle.load(model_file)

    model.generation_config = GenerationConfig()  # Prevent prefill_chunk_size error

    # Text-to-speech
    def speak(text):
        engine = pyttsx3.init()
        engine.setProperty('rate', 150)
        engine.setProperty('volume', 1)
        engine.say(text)
        engine.runAndWait()

    # Take a picture using webcam
    def take_picture():
        print("🎥 Opening webcam...")
        cap = cv2.VideoCapture(0)
        if not cap.isOpened():
            print("❌ Failed on index 0. Trying index 1...")
            cap = cv2.VideoCapture(1)

        if not cap.isOpened():
            print("❌ Could not open any webcam.")
            return False

        print("✅ Webcam opened. Capturing frame...")
        ret, frame = cap.read()
        if ret:
            cv2.imwrite("captured_image.jpg", frame)
            print("📸 Image saved as captured_image.jpg")
            cap.release()
            return True
        else:
            print("❌ Failed to capture image.")
            cap.release()
            return False

    # Generate caption from image file
    def generate_caption(image_path):
        print(f"🖼 Generating caption from: {image_path}")
        img = cv2.imread(image_path)
        if img is not None:
            img_input = Image.fromarray(cv2.cvtColor(img, cv2.COLOR_BGR2RGB))
            inputs = processor(images=img_input, return_tensors='pt')
            pixel_values = inputs["pixel_values"]

            try:
                out = model.generate(
                    pixel_values=pixel_values,
                    max_length=16,
                    num_beams=4,
                    no_repeat_ngram_size=2,
                    early_stopping=True
                )
                caption = processor.decode(out[0], skip_special_tokens=True)
                print(f'🧾 Caption: {caption}')
                speak(caption)
            except Exception as e:
                print(f'❌ Error generating caption: {e}')
        else:
            print("❌ Unable to read image.")

    # Handle image upload
    def handle_upload():
        file_path = input("📂 Enter full path to the image: ").strip()
        if not os.path.isfile(file_path):
            print("❌ Invalid file path.")
            return
        generate_caption(file_path)

    # Voice command handler
    def listen_for_command():
        recognizer = sr.Recognizer()
        with sr.Microphone() as source:
            print("🎤 Say 'take a picture' or 'upload image'")
            try:
                audio = recognizer.listen(source)
                command = recognizer.recognize_google(audio).lower()
                print(f'✅ Command received: {command}')

                if 'take a picture' in command or 'click picture' in command or 'capture image' in command:
                    if take_picture():
                        generate_caption("captured_image.jpg")

                elif 'upload' in command or 'upload image' in command or 'upload file' in command:
                    handle_upload()

                else:
                    print("❌ Command not recognized. Try saying 'take a picture' or 'upload image'.")

            except sr.UnknownValueError:
                print("❌ Could not understand your voice.")
            except sr.RequestError as e:
                print(f"❌ Error with the speech recognition service: {e}")

    # Main
    if __name__ == '__main__':
        listen_for_command()
